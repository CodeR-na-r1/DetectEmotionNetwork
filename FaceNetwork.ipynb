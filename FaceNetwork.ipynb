{
  "cells": [
    {
      "cell_type": "code",
      "execution_count": 22,
      "metadata": {
        "id": "apUZmDjzA4rd"
      },
      "outputs": [],
      "source": [
        "# config\n",
        "\n",
        "import os\n",
        "\n",
        "BASE_PATH = \"readyDataSet\"\n",
        "IMAGES_PATH = BASE_PATH\n",
        "ANNOTS_PATH = \"bboxDescriptions.svg\"\n",
        "\n",
        "BASE_OUTPUT = \"output\"\n",
        "\n",
        "MODEL_PATH = os.path.sep.join([BASE_OUTPUT, \"faceDetector.h5\"])\n",
        "PLOT_PATH = os.path.sep.join([BASE_OUTPUT, \"plot.png\"])\n",
        "TEST_FILENAMES = os.path.sep.join([BASE_OUTPUT, \"test_images.txt\"])\n",
        "\n",
        "INIT_LR = 1e-4\n",
        "NUM_EPOCHS = 50\n",
        "BATCH_SIZE = 32"
      ]
    },
    {
      "cell_type": "code",
      "execution_count": 15,
      "metadata": {
        "id": "rKNp2NDTA4rg"
      },
      "outputs": [],
      "source": [
        "from tensorflow.keras.applications import VGG16\n",
        "from tensorflow.keras.layers import Flatten\n",
        "from tensorflow.keras.layers import Dense\n",
        "from tensorflow.keras.layers import Input\n",
        "from tensorflow.keras.models import Model\n",
        "from tensorflow.keras.optimizers import Adam\n",
        "from tensorflow.keras.preprocessing.image import img_to_array\n",
        "from tensorflow.keras.preprocessing.image import load_img\n",
        "from sklearn.model_selection import train_test_split\n",
        "import matplotlib.pyplot as plt\n",
        "import numpy as np\n",
        "import cv2\n",
        "import os"
      ]
    },
    {
      "cell_type": "code",
      "execution_count": 16,
      "metadata": {
        "id": "bcYxHzcKA4rg",
        "colab": {
          "base_uri": "https://localhost:8080/"
        },
        "outputId": "9f6482da-c6fe-4e33-8b87-8a4af295d2ad"
      },
      "outputs": [
        {
          "output_type": "stream",
          "name": "stdout",
          "text": [
            "[INFO] loading dataset...\n"
          ]
        }
      ],
      "source": [
        "# load the contents of the CSV annotations file\n",
        "print(\"[INFO] loading dataset...\")\n",
        "rows = open(ANNOTS_PATH).read().strip().split(\"\\n\")\n",
        "# initialize the list of data (images), our target output predictions\n",
        "# (bounding box coordinates), along with the filenames of the\n",
        "# individual images\n",
        "data = []\n",
        "targets = []\n",
        "filenames = []"
      ]
    },
    {
      "cell_type": "code",
      "execution_count": 17,
      "metadata": {
        "id": "NQrvlmmJA4rh"
      },
      "outputs": [],
      "source": [
        "# loop over the rows\n",
        "for row in rows:\n",
        "\t# break the row into the filename and bounding box coordinates\n",
        "\trow = row.split(\",\")\n",
        "\t(filename, startX, startY, endX, endY) = row\n",
        "\t\n",
        "    \t# derive the path to the input image, load the image (in OpenCV\n",
        "\t# format), and grab its dimensions\n",
        "\timagePath = os.path.sep.join([IMAGES_PATH, filename])\n",
        "\timage = cv2.imread(imagePath)\n",
        "\t(h, w) = image.shape[:2]\n",
        "\t# scale the bounding box coordinates relative to the spatial\n",
        "\t# dimensions of the input image\n",
        "\tstartX = float(startX) / w\n",
        "\tstartY = float(startY) / h\n",
        "\tendX = float(endX) / w\n",
        "\tendY = float(endY) / h\n",
        "\t\n",
        "    # load the image and preprocess it\n",
        "\timage = load_img(imagePath, target_size=(224, 224))\n",
        "\timage = img_to_array(image)\n",
        "\t# update our list of data, targets, and filenames\n",
        "\tdata.append(image)\n",
        "\ttargets.append((startX, startY, endX, endY))\n",
        "\tfilenames.append(filename)"
      ]
    },
    {
      "cell_type": "code",
      "execution_count": 18,
      "metadata": {
        "id": "6q62t0dyA4rh",
        "colab": {
          "base_uri": "https://localhost:8080/"
        },
        "outputId": "c9846ad4-6c8f-4871-cccf-f6269967d4d7"
      },
      "outputs": [
        {
          "output_type": "stream",
          "name": "stdout",
          "text": [
            "[INFO] saving testing filenames...\n"
          ]
        }
      ],
      "source": [
        "# convert the data and targets to NumPy arrays, scaling the input\n",
        "# pixel intensities from the range [0, 255] to [0, 1]\n",
        "data = np.array(data, dtype=\"float32\") / 255.0\n",
        "targets = np.array(targets, dtype=\"float32\")\n",
        "# partition the data into training and testing splits using 90% of\n",
        "# the data for training and the remaining 10% for testing\n",
        "split = train_test_split(data, targets, filenames, test_size=0.10,\n",
        "\trandom_state=42)\n",
        "# unpack the data split\n",
        "(trainImages, testImages) = split[:2]\n",
        "(trainTargets, testTargets) = split[2:4]\n",
        "(trainFilenames, testFilenames) = split[4:]\n",
        "# write the testing filenames to disk so that we can use then\n",
        "# when evaluating/testing our bounding box regressor\n",
        "print(\"[INFO] saving testing filenames...\")\n",
        "f = open(TEST_FILENAMES, \"w\")\n",
        "f.write(\"\\n\".join(testFilenames))\n",
        "f.close()"
      ]
    },
    {
      "cell_type": "code",
      "execution_count": 19,
      "metadata": {
        "id": "YS9yp8r2A4rh",
        "colab": {
          "base_uri": "https://localhost:8080/"
        },
        "outputId": "042baab0-9236-45f0-fd16-08ecb204a61a"
      },
      "outputs": [
        {
          "output_type": "stream",
          "name": "stdout",
          "text": [
            "Downloading data from https://storage.googleapis.com/tensorflow/keras-applications/vgg16/vgg16_weights_tf_dim_ordering_tf_kernels_notop.h5\n",
            "58889256/58889256 [==============================] - 0s 0us/step\n"
          ]
        }
      ],
      "source": [
        "# load the VGG16 network, ensuring the head FC layers are left off\n",
        "vgg = VGG16(weights=\"imagenet\", include_top=False,\n",
        "\tinput_tensor=Input(shape=(224, 224, 3)))\n",
        "# freeze all VGG layers so they will *not* be updated during the\n",
        "# training process\n",
        "vgg.trainable = False\n",
        "# flatten the max-pooling output of VGG\n",
        "flatten = vgg.output\n",
        "flatten = Flatten()(flatten)\n",
        "# construct a fully-connected layer header to output the predicted\n",
        "# bounding box coordinates\n",
        "bboxHead = Dense(128, activation=\"relu\")(flatten)\n",
        "bboxHead = Dense(64, activation=\"relu\")(bboxHead)\n",
        "bboxHead = Dense(32, activation=\"relu\")(bboxHead)\n",
        "bboxHead = Dense(4, activation=\"sigmoid\")(bboxHead)\n",
        "# construct the model we will fine-tune for bounding box regression\n",
        "model = Model(inputs=vgg.input, outputs=bboxHead)"
      ]
    },
    {
      "cell_type": "code",
      "execution_count": 23,
      "metadata": {
        "id": "6-7dn4tmA4ri",
        "colab": {
          "base_uri": "https://localhost:8080/"
        },
        "outputId": "31eaada5-821b-4424-ca95-c8023e83ac6e"
      },
      "outputs": [
        {
          "output_type": "stream",
          "name": "stdout",
          "text": [
            "Model: \"model\"\n",
            "_________________________________________________________________\n",
            " Layer (type)                Output Shape              Param #   \n",
            "=================================================================\n",
            " input_1 (InputLayer)        [(None, 224, 224, 3)]     0         \n",
            "                                                                 \n",
            " block1_conv1 (Conv2D)       (None, 224, 224, 64)      1792      \n",
            "                                                                 \n",
            " block1_conv2 (Conv2D)       (None, 224, 224, 64)      36928     \n",
            "                                                                 \n",
            " block1_pool (MaxPooling2D)  (None, 112, 112, 64)      0         \n",
            "                                                                 \n",
            " block2_conv1 (Conv2D)       (None, 112, 112, 128)     73856     \n",
            "                                                                 \n",
            " block2_conv2 (Conv2D)       (None, 112, 112, 128)     147584    \n",
            "                                                                 \n",
            " block2_pool (MaxPooling2D)  (None, 56, 56, 128)       0         \n",
            "                                                                 \n",
            " block3_conv1 (Conv2D)       (None, 56, 56, 256)       295168    \n",
            "                                                                 \n",
            " block3_conv2 (Conv2D)       (None, 56, 56, 256)       590080    \n",
            "                                                                 \n",
            " block3_conv3 (Conv2D)       (None, 56, 56, 256)       590080    \n",
            "                                                                 \n",
            " block3_pool (MaxPooling2D)  (None, 28, 28, 256)       0         \n",
            "                                                                 \n",
            " block4_conv1 (Conv2D)       (None, 28, 28, 512)       1180160   \n",
            "                                                                 \n",
            " block4_conv2 (Conv2D)       (None, 28, 28, 512)       2359808   \n",
            "                                                                 \n",
            " block4_conv3 (Conv2D)       (None, 28, 28, 512)       2359808   \n",
            "                                                                 \n",
            " block4_pool (MaxPooling2D)  (None, 14, 14, 512)       0         \n",
            "                                                                 \n",
            " block5_conv1 (Conv2D)       (None, 14, 14, 512)       2359808   \n",
            "                                                                 \n",
            " block5_conv2 (Conv2D)       (None, 14, 14, 512)       2359808   \n",
            "                                                                 \n",
            " block5_conv3 (Conv2D)       (None, 14, 14, 512)       2359808   \n",
            "                                                                 \n",
            " block5_pool (MaxPooling2D)  (None, 7, 7, 512)         0         \n",
            "                                                                 \n",
            " flatten (Flatten)           (None, 25088)             0         \n",
            "                                                                 \n",
            " dense (Dense)               (None, 128)               3211392   \n",
            "                                                                 \n",
            " dense_1 (Dense)             (None, 64)                8256      \n",
            "                                                                 \n",
            " dense_2 (Dense)             (None, 32)                2080      \n",
            "                                                                 \n",
            " dense_3 (Dense)             (None, 4)                 132       \n",
            "                                                                 \n",
            "=================================================================\n",
            "Total params: 17,936,548\n",
            "Trainable params: 3,221,860\n",
            "Non-trainable params: 14,714,688\n",
            "_________________________________________________________________\n",
            "None\n",
            "[INFO] training bounding box regressor...\n",
            "Epoch 1/50\n",
            "5/5 [==============================] - 7s 174ms/step - loss: 0.0017 - val_loss: 0.0099\n",
            "Epoch 2/50\n",
            "5/5 [==============================] - 1s 125ms/step - loss: 0.0012 - val_loss: 0.0097\n",
            "Epoch 3/50\n",
            "5/5 [==============================] - 1s 126ms/step - loss: 0.0011 - val_loss: 0.0088\n",
            "Epoch 4/50\n",
            "5/5 [==============================] - 1s 126ms/step - loss: 8.3575e-04 - val_loss: 0.0091\n",
            "Epoch 5/50\n",
            "5/5 [==============================] - 1s 127ms/step - loss: 6.8745e-04 - val_loss: 0.0100\n",
            "Epoch 6/50\n",
            "5/5 [==============================] - 1s 125ms/step - loss: 5.6896e-04 - val_loss: 0.0089\n",
            "Epoch 7/50\n",
            "5/5 [==============================] - 1s 126ms/step - loss: 4.9874e-04 - val_loss: 0.0090\n",
            "Epoch 8/50\n",
            "5/5 [==============================] - 1s 125ms/step - loss: 3.9562e-04 - val_loss: 0.0094\n",
            "Epoch 9/50\n",
            "5/5 [==============================] - 1s 127ms/step - loss: 3.8355e-04 - val_loss: 0.0088\n",
            "Epoch 10/50\n",
            "5/5 [==============================] - 1s 126ms/step - loss: 3.1570e-04 - val_loss: 0.0094\n",
            "Epoch 11/50\n",
            "5/5 [==============================] - 1s 126ms/step - loss: 2.7302e-04 - val_loss: 0.0093\n",
            "Epoch 12/50\n",
            "5/5 [==============================] - 1s 127ms/step - loss: 2.2161e-04 - val_loss: 0.0088\n",
            "Epoch 13/50\n",
            "5/5 [==============================] - 1s 125ms/step - loss: 2.1807e-04 - val_loss: 0.0096\n",
            "Epoch 14/50\n",
            "5/5 [==============================] - 1s 128ms/step - loss: 2.0582e-04 - val_loss: 0.0095\n",
            "Epoch 15/50\n",
            "5/5 [==============================] - 1s 128ms/step - loss: 1.9563e-04 - val_loss: 0.0090\n",
            "Epoch 16/50\n",
            "5/5 [==============================] - 1s 134ms/step - loss: 1.7453e-04 - val_loss: 0.0093\n",
            "Epoch 17/50\n",
            "5/5 [==============================] - 1s 136ms/step - loss: 1.3791e-04 - val_loss: 0.0089\n",
            "Epoch 18/50\n",
            "5/5 [==============================] - 1s 136ms/step - loss: 1.1827e-04 - val_loss: 0.0090\n",
            "Epoch 19/50\n",
            "5/5 [==============================] - 1s 127ms/step - loss: 1.1891e-04 - val_loss: 0.0093\n",
            "Epoch 20/50\n",
            "5/5 [==============================] - 1s 130ms/step - loss: 1.4665e-04 - val_loss: 0.0090\n",
            "Epoch 21/50\n",
            "5/5 [==============================] - 1s 132ms/step - loss: 1.4042e-04 - val_loss: 0.0089\n",
            "Epoch 22/50\n",
            "5/5 [==============================] - 1s 129ms/step - loss: 1.2958e-04 - val_loss: 0.0089\n",
            "Epoch 23/50\n",
            "5/5 [==============================] - 1s 126ms/step - loss: 1.2077e-04 - val_loss: 0.0089\n",
            "Epoch 24/50\n",
            "5/5 [==============================] - 1s 130ms/step - loss: 9.4986e-05 - val_loss: 0.0092\n",
            "Epoch 25/50\n",
            "5/5 [==============================] - 1s 128ms/step - loss: 9.5942e-05 - val_loss: 0.0094\n",
            "Epoch 26/50\n",
            "5/5 [==============================] - 1s 126ms/step - loss: 7.8340e-05 - val_loss: 0.0094\n",
            "Epoch 27/50\n",
            "5/5 [==============================] - 1s 127ms/step - loss: 7.4467e-05 - val_loss: 0.0095\n",
            "Epoch 28/50\n",
            "5/5 [==============================] - 1s 126ms/step - loss: 7.5501e-05 - val_loss: 0.0093\n",
            "Epoch 29/50\n",
            "5/5 [==============================] - 1s 126ms/step - loss: 7.8321e-05 - val_loss: 0.0096\n",
            "Epoch 30/50\n",
            "5/5 [==============================] - 1s 128ms/step - loss: 9.1421e-05 - val_loss: 0.0094\n",
            "Epoch 31/50\n",
            "5/5 [==============================] - 1s 129ms/step - loss: 9.1742e-05 - val_loss: 0.0093\n",
            "Epoch 32/50\n",
            "5/5 [==============================] - 1s 131ms/step - loss: 9.3312e-05 - val_loss: 0.0094\n",
            "Epoch 33/50\n",
            "5/5 [==============================] - 1s 127ms/step - loss: 8.0420e-05 - val_loss: 0.0094\n",
            "Epoch 34/50\n",
            "5/5 [==============================] - 1s 129ms/step - loss: 9.3018e-05 - val_loss: 0.0093\n",
            "Epoch 35/50\n",
            "5/5 [==============================] - 1s 131ms/step - loss: 9.1829e-05 - val_loss: 0.0091\n",
            "Epoch 36/50\n",
            "5/5 [==============================] - 1s 136ms/step - loss: 9.2485e-05 - val_loss: 0.0089\n",
            "Epoch 37/50\n",
            "5/5 [==============================] - 1s 138ms/step - loss: 1.4173e-04 - val_loss: 0.0092\n",
            "Epoch 38/50\n",
            "5/5 [==============================] - 1s 130ms/step - loss: 1.8225e-04 - val_loss: 0.0098\n",
            "Epoch 39/50\n",
            "5/5 [==============================] - 1s 129ms/step - loss: 1.5288e-04 - val_loss: 0.0096\n",
            "Epoch 40/50\n",
            "5/5 [==============================] - 1s 131ms/step - loss: 1.4077e-04 - val_loss: 0.0096\n",
            "Epoch 41/50\n",
            "5/5 [==============================] - 1s 131ms/step - loss: 1.7449e-04 - val_loss: 0.0101\n",
            "Epoch 42/50\n",
            "5/5 [==============================] - 1s 129ms/step - loss: 2.5066e-04 - val_loss: 0.0094\n",
            "Epoch 43/50\n",
            "5/5 [==============================] - 1s 132ms/step - loss: 1.9845e-04 - val_loss: 0.0091\n",
            "Epoch 44/50\n",
            "5/5 [==============================] - 1s 131ms/step - loss: 2.1064e-04 - val_loss: 0.0089\n",
            "Epoch 45/50\n",
            "5/5 [==============================] - 1s 134ms/step - loss: 2.0286e-04 - val_loss: 0.0088\n",
            "Epoch 46/50\n",
            "5/5 [==============================] - 1s 132ms/step - loss: 2.2504e-04 - val_loss: 0.0092\n",
            "Epoch 47/50\n",
            "5/5 [==============================] - 1s 136ms/step - loss: 2.4127e-04 - val_loss: 0.0097\n",
            "Epoch 48/50\n",
            "5/5 [==============================] - 1s 132ms/step - loss: 2.7390e-04 - val_loss: 0.0099\n",
            "Epoch 49/50\n",
            "5/5 [==============================] - 1s 130ms/step - loss: 2.1200e-04 - val_loss: 0.0089\n",
            "Epoch 50/50\n",
            "5/5 [==============================] - 1s 131ms/step - loss: 1.8989e-04 - val_loss: 0.0092\n"
          ]
        }
      ],
      "source": [
        "# initialize the optimizer, compile the model, and show the model\n",
        "# summary\n",
        "opt = Adam(learning_rate=INIT_LR)\n",
        "model.compile(loss=\"mse\", optimizer=opt)\n",
        "print(model.summary())\n",
        "# train the network for bounding box regression\n",
        "print(\"[INFO] training bounding box regressor...\")\n",
        "H = model.fit(\n",
        "\ttrainImages, trainTargets,\n",
        "\tvalidation_data=(testImages, testTargets),\n",
        "\tbatch_size=BATCH_SIZE,\n",
        "\tepochs=NUM_EPOCHS,\n",
        "\tverbose=1)"
      ]
    },
    {
      "cell_type": "code",
      "execution_count": 21,
      "metadata": {
        "id": "tTmmrX9gA4ri",
        "colab": {
          "base_uri": "https://localhost:8080/",
          "height": 494
        },
        "outputId": "55ae5244-095f-44ec-944a-432fabd43944"
      },
      "outputs": [
        {
          "output_type": "stream",
          "name": "stdout",
          "text": [
            "[INFO] saving object detector model...\n"
          ]
        },
        {
          "output_type": "display_data",
          "data": {
            "text/plain": [
              "<Figure size 640x480 with 1 Axes>"
            ],
            "image/png": "[encoded data removed]"
          },
          "metadata": {}
        }
      ],
      "source": [
        "# serialize the model to disk\n",
        "print(\"[INFO] saving object detector model...\")\n",
        "model.save(MODEL_PATH, save_format=\"h5\")\n",
        "# plot the model training history\n",
        "N = NUM_EPOCHS\n",
        "plt.style.use(\"ggplot\")\n",
        "plt.figure()\n",
        "plt.plot(np.arange(0, N), H.history[\"loss\"], label=\"train_loss\")\n",
        "plt.plot(np.arange(0, N), H.history[\"val_loss\"], label=\"val_loss\")\n",
        "plt.title(\"Bounding Box Regression Loss on Training Set\")\n",
        "plt.xlabel(\"Epoch #\")\n",
        "plt.ylabel(\"Loss\")\n",
        "plt.legend(loc=\"lower left\")\n",
        "plt.savefig(PLOT_PATH)"
      ]
    }
  ],
  "metadata": {
    "kernelspec": {
      "display_name": "Python 3",
      "name": "python3"
    },
    "language_info": {
      "codemirror_mode": {
        "name": "ipython",
        "version": 3
      },
      "file_extension": ".py",
      "mimetype": "text/x-python",
      "name": "python",
      "nbconvert_exporter": "python",
      "pygments_lexer": "ipython3",
      "version": "3.10.1"
    },
    "orig_nbformat": 4,
    "colab": {
      "provenance": [],
      "gpuType": "T4"
    },
    "accelerator": "GPU"
  },
  "nbformat": 4,
  "nbformat_minor": 0
}